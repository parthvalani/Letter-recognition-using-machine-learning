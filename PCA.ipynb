{
 "cells": [
  {
   "cell_type": "code",
   "execution_count": 85,
   "metadata": {},
   "outputs": [],
   "source": [
    "######## import all libraries #########\n",
    "import numpy as np\n",
    "from sklearn.model_selection import train_test_split\n",
    "from sklearn.preprocessing import LabelEncoder,MinMaxScaler,scale\n",
    "import pandas as pd\n",
    "from keras.utils import to_categorical\n",
    "import keras\n",
    "from keras import activations\n",
    "from keras.layers import Input, Dense, Dropout, Flatten, Activation\n",
    "from keras.models import Model, Sequential\n",
    "from sklearn.metrics import accuracy_score"
   ]
  },
  {
   "cell_type": "code",
   "execution_count": 86,
   "metadata": {},
   "outputs": [
    {
     "name": "stdout",
     "output_type": "stream",
     "text": [
      "(20000, 16) (20000,)\n"
     ]
    }
   ],
   "source": [
    "######## Load Dataset ##########\n",
    "path = 'letter-recognition.txt'\n",
    "# read .txt file using pandas.\n",
    "data=pd.read_csv(path)\n",
    "# last 16 colomnn as a inputs\n",
    "X=data.iloc[:,1:]\n",
    "# first column as a labels.\n",
    "Y=data.iloc[:,0]\n",
    "# total number of classes\n",
    "classes = len(np.unique(Y))\n",
    "# convert inputs in the range of 0 to 1.\n",
    "X = MinMaxScaler().fit_transform(X)\n",
    "# convert letter type labels into numeric type( 0 to 25)\n",
    "Y = LabelEncoder().fit_transform(Y)\n",
    "print(X.shape,Y.shape)"
   ]
  },
  {
   "cell_type": "code",
   "execution_count": 87,
   "metadata": {},
   "outputs": [
    {
     "name": "stdout",
     "output_type": "stream",
     "text": [
      "(20000, 10)\n"
     ]
    }
   ],
   "source": [
    "################ feature-extraction(Principal component Analysis) #############\n",
    "from sklearn.decomposition import PCA\n",
    "# generate 10 new features out of 16.\n",
    "pca = PCA(n_components=10)\n",
    "X_s = pca.fit_transform(X)\n",
    "print(X_s.shape)"
   ]
  },
  {
   "cell_type": "code",
   "execution_count": 88,
   "metadata": {},
   "outputs": [],
   "source": [
    "############## Scaling of new the features #############\n",
    "X_S = MinMaxScaler().fit_transform(X_s) # in the range of 0 to 1."
   ]
  },
  {
   "cell_type": "code",
   "execution_count": 89,
   "metadata": {},
   "outputs": [],
   "source": [
    "########### train test split ##############\n",
    "# 70 % training and 30% testing\n",
    "features1, features2, y_train, y_test = train_test_split(X_S,Y, test_size = 0.3, random_state = 0) "
   ]
  },
  {
   "cell_type": "code",
   "execution_count": 90,
   "metadata": {},
   "outputs": [
    {
     "name": "stdout",
     "output_type": "stream",
     "text": [
      "SVM score: 91.01666666666667\n"
     ]
    }
   ],
   "source": [
    "######### SVM classifier ##########\n",
    "from sklearn.svm import SVC\n",
    "# SVC classifier using 'rbf' kernel because multi-label classes.\n",
    "model = SVC(kernel='rbf')\n",
    "# fit for the training.\n",
    "model.fit(features1,y_train)\n",
    "# find the final accuracy using testing data.\n",
    "score = model.score(features2, y_test)\n",
    "print(\"SVM score:\",score*100)"
   ]
  },
  {
   "cell_type": "code",
   "execution_count": 92,
   "metadata": {},
   "outputs": [
    {
     "name": "stdout",
     "output_type": "stream",
     "text": [
      "KNN score: 93.28333333333333\n"
     ]
    }
   ],
   "source": [
    "######## KNN classifier ##########\n",
    "from sklearn.neighbors import KNeighborsClassifier\n",
    "# Knn clasifier using 5 nearest neighors.\n",
    "neigh = KNeighborsClassifier(n_neighbors=5)\n",
    "neigh.fit(features1, y_train)\n",
    "acc = neigh.score(features2, y_test)\n",
    "print(\"KNN score:\",acc*100)"
   ]
  },
  {
   "cell_type": "code",
   "execution_count": 93,
   "metadata": {},
   "outputs": [
    {
     "name": "stdout",
     "output_type": "stream",
     "text": [
      "logistic Regression score: 68.15\n"
     ]
    },
    {
     "name": "stderr",
     "output_type": "stream",
     "text": [
      "c:\\users\\valan\\anaconda3\\envs\\tf_gpu\\lib\\site-packages\\sklearn\\linear_model\\_logistic.py:762: ConvergenceWarning: lbfgs failed to converge (status=1):\n",
      "STOP: TOTAL NO. of ITERATIONS REACHED LIMIT.\n",
      "\n",
      "Increase the number of iterations (max_iter) or scale the data as shown in:\n",
      "    https://scikit-learn.org/stable/modules/preprocessing.html\n",
      "Please also refer to the documentation for alternative solver options:\n",
      "    https://scikit-learn.org/stable/modules/linear_model.html#logistic-regression\n",
      "  n_iter_i = _check_optimize_result(\n"
     ]
    }
   ],
   "source": [
    "######### Logistic Regression ########\n",
    "from sklearn.linear_model import LogisticRegression\n",
    "model = LogisticRegression()\n",
    "model.fit(features1,y_train)\n",
    "score = model.score(features2, y_test)\n",
    "print(\"logistic Regression score:\",score*100)"
   ]
  },
  {
   "cell_type": "code",
   "execution_count": 94,
   "metadata": {},
   "outputs": [
    {
     "name": "stdout",
     "output_type": "stream",
     "text": [
      "Decision Tree score: 78.86666666666666\n"
     ]
    }
   ],
   "source": [
    "######## DecisionTree Classifier #########\n",
    "from sklearn.tree import DecisionTreeClassifier\n",
    "model = DecisionTreeClassifier()\n",
    "model.fit(features1,y_train)\n",
    "score = model.score(features2, y_test)\n",
    "print(\"Decision Tree score:\",score*100)"
   ]
  },
  {
   "cell_type": "code",
   "execution_count": 95,
   "metadata": {},
   "outputs": [
    {
     "name": "stdout",
     "output_type": "stream",
     "text": [
      "Naive bayes score: 62.66666666666667\n"
     ]
    }
   ],
   "source": [
    "######## Naive bayes Classifier #########\n",
    "from sklearn.naive_bayes import GaussianNB\n",
    "model = GaussianNB()\n",
    "model.fit(features1,y_train)\n",
    "score = model.score(features2, y_test)\n",
    "print(\"Naive bayes score:\",score*100)"
   ]
  },
  {
   "cell_type": "code",
   "execution_count": 96,
   "metadata": {},
   "outputs": [
    {
     "name": "stderr",
     "output_type": "stream",
     "text": [
      "c:\\users\\valan\\anaconda3\\envs\\tf_gpu\\lib\\site-packages\\sklearn\\utils\\validation.py:67: FutureWarning: Pass neg_label=-1, pos_label=1 as keyword args. From version 0.25 passing these as positional arguments will result in an error\n",
      "  warnings.warn(\"Pass {} as keyword args. From version 0.25 \"\n"
     ]
    },
    {
     "name": "stdout",
     "output_type": "stream",
     "text": [
      "ELM score: 93.21666666666667\n"
     ]
    }
   ],
   "source": [
    "######## ELM classifier ##########\n",
    "from sklearn_extensions.extreme_learning_machines.elm import GenELMClassifier\n",
    "from sklearn_extensions.extreme_learning_machines.random_layer import RBFRandomLayer, MLPRandomLayer\n",
    "# use ELM classifier with 5000 hidden nodes and 'tanh' activatioon function.\n",
    "clf = GenELMClassifier(hidden_layer=MLPRandomLayer(n_hidden=5000, activation_func='tanh')) \n",
    "clf.fit(features1, y_train)\n",
    "res = clf.score(features2, y_test)\n",
    "print(\"ELM score:\",res*100)"
   ]
  },
  {
   "cell_type": "code",
   "execution_count": 98,
   "metadata": {},
   "outputs": [
    {
     "name": "stdout",
     "output_type": "stream",
     "text": [
      "random Forest score: 92.78333333333333\n"
     ]
    }
   ],
   "source": [
    "######## RF Classifier #########\n",
    "from sklearn.ensemble import RandomForestClassifier\n",
    "model = RandomForestClassifier()\n",
    "model.fit(features1,y_train)\n",
    "score = model.score(features2, y_test)\n",
    "print(\"Random Forest score:\",score*100)"
   ]
  }
 ],
 "metadata": {
  "kernelspec": {
   "display_name": "Python 3",
   "language": "python",
   "name": "python3"
  },
  "language_info": {
   "codemirror_mode": {
    "name": "ipython",
    "version": 3
   },
   "file_extension": ".py",
   "mimetype": "text/x-python",
   "name": "python",
   "nbconvert_exporter": "python",
   "pygments_lexer": "ipython3",
   "version": "3.8.3"
  }
 },
 "nbformat": 4,
 "nbformat_minor": 4
}
